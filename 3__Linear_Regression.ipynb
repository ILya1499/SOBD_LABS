{
 "cells": [
  {
   "cell_type": "markdown",
   "metadata": {},
   "source": [
    "## Лабораторная работа № 2 \n",
    "## Машинное обучение на больших данных с использованием фреймворка Apache Spark и библиотеки SparkML"
   ]
  },
  {
   "cell_type": "markdown",
   "metadata": {},
   "source": [
    "### Часть 1\n",
    "\n",
    "В данной части работы рассмотрены:\n",
    "* подготовка признаков для рашения задачи **линейной регрессии**;\n",
    "* создание и обучение модели линейной регрессии;\n",
    "* оценка качества модели."
   ]
  },
  {
   "cell_type": "markdown",
   "metadata": {},
   "source": [
    "#### Запуск `Spark`-сессии\n",
    "\n",
    "Подключаем необходимые библиотеки."
   ]
  },
  {
   "cell_type": "code",
   "execution_count": 1,
   "metadata": {},
   "outputs": [],
   "source": [
    "import os\n",
    "import csv\n",
    "from pyspark.sql import SparkSession, DataFrame\n",
    "from pyspark import SparkConf\n",
    "from pyspark.ml.feature import VectorAssembler, StringIndexer, OneHotEncoder, MinMaxScaler, Binarizer\n",
    "from pyspark.ml.regression import LinearRegression\n",
    "from pyspark.ml.evaluation import RegressionEvaluator\n",
    "from pyspark.ml.tuning import CrossValidator, CrossValidatorModel, ParamGridBuilder\n",
    "from pyspark.ml import Pipeline\n",
    "from pyspark.sql.functions import col\n",
    "from pyspark.sql.types import DoubleType\n",
    "import seaborn as sns\n",
    "import matplotlib.pyplot as plt"
   ]
  },
  {
   "cell_type": "markdown",
   "metadata": {},
   "source": [
    "Сформируем объект конфигурации для `Apache Spark`, указав необходимые параметры."
   ]
  },
  {
   "cell_type": "code",
   "execution_count": 2,
   "metadata": {},
   "outputs": [],
   "source": [
    "def create_spark_configuration() -> SparkConf:\n",
    "    \"\"\"\n",
    "    Создает и конфигурирует экземпляр SparkConf для приложения Spark.\n",
    "\n",
    "    Returns:\n",
    "        SparkConf: Настроенный экземпляр SparkConf.\n",
    "    \"\"\"\n",
    "    # Получаем имя пользователя\n",
    "    user_name = os.getenv(\"USER\")\n",
    "    \n",
    "    conf = SparkConf()\n",
    "    conf.setAppName(\"lab 2 Test\")\n",
    "    conf.setMaster(\"yarn\")\n",
    "    conf.set(\"spark.submit.deployMode\", \"client\")\n",
    "    conf.set(\"spark.executor.memory\", \"12g\")\n",
    "    conf.set(\"spark.executor.cores\", \"8\")\n",
    "    conf.set(\"spark.executor.instances\", \"2\")\n",
    "    conf.set(\"spark.driver.memory\", \"4g\")\n",
    "    conf.set(\"spark.driver.cores\", \"2\")\n",
    "    conf.set(\"spark.jars.packages\", \"org.apache.iceberg:iceberg-spark-runtime-3.5_2.12:1.6.0\")\n",
    "    conf.set(\"spark.sql.extensions\", \"org.apache.iceberg.spark.extensions.IcebergSparkSessionExtensions\")\n",
    "    conf.set(\"spark.sql.catalog.spark_catalog\", \"org.apache.iceberg.spark.SparkCatalog\")\n",
    "    conf.set(\"spark.sql.catalog.spark_catalog.type\", \"hadoop\")\n",
    "    conf.set(\"spark.sql.catalog.spark_catalog.warehouse\", f\"hdfs:///user/{user_name}/warehouse\")\n",
    "    conf.set(\"spark.sql.catalog.spark_catalog.io-impl\", \"org.apache.iceberg.hadoop.HadoopFileIO\")\n",
    "\n",
    "    return conf"
   ]
  },
  {
   "cell_type": "markdown",
   "metadata": {},
   "source": [
    "Создаём сам объект конфигурации."
   ]
  },
  {
   "cell_type": "code",
   "execution_count": 3,
   "metadata": {},
   "outputs": [],
   "source": [
    "conf = create_spark_configuration()"
   ]
  },
  {
   "cell_type": "markdown",
   "metadata": {},
   "source": [
    "Создаём и выводим на экран сессию `Apache Spark`. В процессе создания сессии происходит подключение к кластеру `Apache Hadoop`, что может занять некоторое время."
   ]
  },
  {
   "cell_type": "code",
   "execution_count": 4,
   "metadata": {},
   "outputs": [
    {
     "name": "stdout",
     "output_type": "stream",
     "text": [
      ":: loading settings :: url = jar:file:/opt/spark-3.5.2-bin-hadoop3/jars/ivy-2.5.1.jar!/org/apache/ivy/core/settings/ivysettings.xml\n"
     ]
    },
    {
     "name": "stderr",
     "output_type": "stream",
     "text": [
      "Ivy Default Cache set to: /home/user6/.ivy2/cache\n",
      "The jars for the packages stored in: /home/user6/.ivy2/jars\n",
      "org.apache.iceberg#iceberg-spark-runtime-3.5_2.12 added as a dependency\n",
      ":: resolving dependencies :: org.apache.spark#spark-submit-parent-87288719-4b51-44c5-bb8f-092d8608d73d;1.0\n",
      "\tconfs: [default]\n",
      "\tfound org.apache.iceberg#iceberg-spark-runtime-3.5_2.12;1.6.0 in central\n",
      ":: resolution report :: resolve 619ms :: artifacts dl 28ms\n",
      "\t:: modules in use:\n",
      "\torg.apache.iceberg#iceberg-spark-runtime-3.5_2.12;1.6.0 from central in [default]\n",
      "\t---------------------------------------------------------------------\n",
      "\t|                  |            modules            ||   artifacts   |\n",
      "\t|       conf       | number| search|dwnlded|evicted|| number|dwnlded|\n",
      "\t---------------------------------------------------------------------\n",
      "\t|      default     |   1   |   0   |   0   |   0   ||   1   |   0   |\n",
      "\t---------------------------------------------------------------------\n",
      ":: retrieving :: org.apache.spark#spark-submit-parent-87288719-4b51-44c5-bb8f-092d8608d73d\n",
      "\tconfs: [default]\n",
      "\t0 artifacts copied, 1 already retrieved (0kB/27ms)\n",
      "Setting default log level to \"WARN\".\n",
      "To adjust logging level use sc.setLogLevel(newLevel). For SparkR, use setLogLevel(newLevel).\n",
      "25/03/10 10:34:19 WARN Utils: Service 'SparkUI' could not bind on port 4040. Attempting port 4041.\n",
      "25/03/10 10:34:24 WARN Client: Neither spark.yarn.jars nor spark.yarn.archive is set, falling back to uploading libraries under SPARK_HOME.\n",
      "25/03/10 10:34:42 WARN Client: Same path resource file:///home/user6/.ivy2/jars/org.apache.iceberg_iceberg-spark-runtime-3.5_2.12-1.6.0.jar added multiple times to distributed cache.\n"
     ]
    },
    {
     "data": {
      "text/html": [
       "\n",
       "            <div>\n",
       "                <p><b>SparkSession - in-memory</b></p>\n",
       "                \n",
       "        <div>\n",
       "            <p><b>SparkContext</b></p>\n",
       "\n",
       "            <p><a href=\"http://node32.cluster:4041\">Spark UI</a></p>\n",
       "\n",
       "            <dl>\n",
       "              <dt>Version</dt>\n",
       "                <dd><code>v3.5.2</code></dd>\n",
       "              <dt>Master</dt>\n",
       "                <dd><code>yarn</code></dd>\n",
       "              <dt>AppName</dt>\n",
       "                <dd><code>lab 2 Test</code></dd>\n",
       "            </dl>\n",
       "        </div>\n",
       "        \n",
       "            </div>\n",
       "        "
      ],
      "text/plain": [
       "<pyspark.sql.session.SparkSession at 0x7fa1340357d0>"
      ]
     },
     "execution_count": 4,
     "metadata": {},
     "output_type": "execute_result"
    }
   ],
   "source": [
    "spark = SparkSession.builder.config(conf=conf).getOrCreate()\n",
    "spark"
   ]
  },
  {
   "cell_type": "markdown",
   "metadata": {},
   "source": [
    "#### Загрузка датасета\n",
    "\n",
    "Укажем базу данных, которая была создана в первой лабораторной работе."
   ]
  },
  {
   "cell_type": "code",
   "execution_count": 5,
   "metadata": {},
   "outputs": [],
   "source": [
    "database_name = \"Efremenkov_database\""
   ]
  },
  {
   "cell_type": "markdown",
   "metadata": {},
   "source": [
    "Установим созданную базу данных как текущую."
   ]
  },
  {
   "cell_type": "code",
   "execution_count": 6,
   "metadata": {},
   "outputs": [
    {
     "ename": "AnalysisException",
     "evalue": "[SCHEMA_NOT_FOUND] The schema `efremenkov_database` cannot be found. Verify the spelling and correctness of the schema and catalog.\nIf you did not qualify the name with a catalog, verify the current_schema() output, or qualify the name with the correct catalog.\nTo tolerate the error on drop use DROP SCHEMA IF EXISTS.",
     "output_type": "error",
     "traceback": [
      "\u001b[0;31m---------------------------------------------------------------------------\u001b[0m",
      "\u001b[0;31mAnalysisException\u001b[0m                         Traceback (most recent call last)",
      "Cell \u001b[0;32mIn[6], line 1\u001b[0m\n\u001b[0;32m----> 1\u001b[0m \u001b[43mspark\u001b[49m\u001b[38;5;241;43m.\u001b[39;49m\u001b[43mcatalog\u001b[49m\u001b[38;5;241;43m.\u001b[39;49m\u001b[43msetCurrentDatabase\u001b[49m\u001b[43m(\u001b[49m\u001b[43mdatabase_name\u001b[49m\u001b[43m)\u001b[49m\n",
      "File \u001b[0;32m/opt/conda-spark-envs/pyspark-env/lib/python3.11/site-packages/pyspark/sql/catalog.py:191\u001b[0m, in \u001b[0;36mCatalog.setCurrentDatabase\u001b[0;34m(self, dbName)\u001b[0m\n\u001b[1;32m    181\u001b[0m \u001b[38;5;28;01mdef\u001b[39;00m \u001b[38;5;21msetCurrentDatabase\u001b[39m(\u001b[38;5;28mself\u001b[39m, dbName: \u001b[38;5;28mstr\u001b[39m) \u001b[38;5;241m-\u001b[39m\u001b[38;5;241m>\u001b[39m \u001b[38;5;28;01mNone\u001b[39;00m:\n\u001b[1;32m    182\u001b[0m \u001b[38;5;250m    \u001b[39m\u001b[38;5;124;03m\"\"\"\u001b[39;00m\n\u001b[1;32m    183\u001b[0m \u001b[38;5;124;03m    Sets the current default database in this session.\u001b[39;00m\n\u001b[1;32m    184\u001b[0m \n\u001b[0;32m   (...)\u001b[0m\n\u001b[1;32m    189\u001b[0m \u001b[38;5;124;03m    >>> spark.catalog.setCurrentDatabase(\"default\")\u001b[39;00m\n\u001b[1;32m    190\u001b[0m \u001b[38;5;124;03m    \"\"\"\u001b[39;00m\n\u001b[0;32m--> 191\u001b[0m     \u001b[38;5;28;01mreturn\u001b[39;00m \u001b[38;5;28;43mself\u001b[39;49m\u001b[38;5;241;43m.\u001b[39;49m\u001b[43m_jcatalog\u001b[49m\u001b[38;5;241;43m.\u001b[39;49m\u001b[43msetCurrentDatabase\u001b[49m\u001b[43m(\u001b[49m\u001b[43mdbName\u001b[49m\u001b[43m)\u001b[49m\n",
      "File \u001b[0;32m/opt/conda-spark-envs/pyspark-env/lib/python3.11/site-packages/py4j/java_gateway.py:1322\u001b[0m, in \u001b[0;36mJavaMember.__call__\u001b[0;34m(self, *args)\u001b[0m\n\u001b[1;32m   1316\u001b[0m command \u001b[38;5;241m=\u001b[39m proto\u001b[38;5;241m.\u001b[39mCALL_COMMAND_NAME \u001b[38;5;241m+\u001b[39m\\\n\u001b[1;32m   1317\u001b[0m     \u001b[38;5;28mself\u001b[39m\u001b[38;5;241m.\u001b[39mcommand_header \u001b[38;5;241m+\u001b[39m\\\n\u001b[1;32m   1318\u001b[0m     args_command \u001b[38;5;241m+\u001b[39m\\\n\u001b[1;32m   1319\u001b[0m     proto\u001b[38;5;241m.\u001b[39mEND_COMMAND_PART\n\u001b[1;32m   1321\u001b[0m answer \u001b[38;5;241m=\u001b[39m \u001b[38;5;28mself\u001b[39m\u001b[38;5;241m.\u001b[39mgateway_client\u001b[38;5;241m.\u001b[39msend_command(command)\n\u001b[0;32m-> 1322\u001b[0m return_value \u001b[38;5;241m=\u001b[39m \u001b[43mget_return_value\u001b[49m\u001b[43m(\u001b[49m\n\u001b[1;32m   1323\u001b[0m \u001b[43m    \u001b[49m\u001b[43manswer\u001b[49m\u001b[43m,\u001b[49m\u001b[43m \u001b[49m\u001b[38;5;28;43mself\u001b[39;49m\u001b[38;5;241;43m.\u001b[39;49m\u001b[43mgateway_client\u001b[49m\u001b[43m,\u001b[49m\u001b[43m \u001b[49m\u001b[38;5;28;43mself\u001b[39;49m\u001b[38;5;241;43m.\u001b[39;49m\u001b[43mtarget_id\u001b[49m\u001b[43m,\u001b[49m\u001b[43m \u001b[49m\u001b[38;5;28;43mself\u001b[39;49m\u001b[38;5;241;43m.\u001b[39;49m\u001b[43mname\u001b[49m\u001b[43m)\u001b[49m\n\u001b[1;32m   1325\u001b[0m \u001b[38;5;28;01mfor\u001b[39;00m temp_arg \u001b[38;5;129;01min\u001b[39;00m temp_args:\n\u001b[1;32m   1326\u001b[0m     \u001b[38;5;28;01mif\u001b[39;00m \u001b[38;5;28mhasattr\u001b[39m(temp_arg, \u001b[38;5;124m\"\u001b[39m\u001b[38;5;124m_detach\u001b[39m\u001b[38;5;124m\"\u001b[39m):\n",
      "File \u001b[0;32m/opt/conda-spark-envs/pyspark-env/lib/python3.11/site-packages/pyspark/errors/exceptions/captured.py:185\u001b[0m, in \u001b[0;36mcapture_sql_exception.<locals>.deco\u001b[0;34m(*a, **kw)\u001b[0m\n\u001b[1;32m    181\u001b[0m converted \u001b[38;5;241m=\u001b[39m convert_exception(e\u001b[38;5;241m.\u001b[39mjava_exception)\n\u001b[1;32m    182\u001b[0m \u001b[38;5;28;01mif\u001b[39;00m \u001b[38;5;129;01mnot\u001b[39;00m \u001b[38;5;28misinstance\u001b[39m(converted, UnknownException):\n\u001b[1;32m    183\u001b[0m     \u001b[38;5;66;03m# Hide where the exception came from that shows a non-Pythonic\u001b[39;00m\n\u001b[1;32m    184\u001b[0m     \u001b[38;5;66;03m# JVM exception message.\u001b[39;00m\n\u001b[0;32m--> 185\u001b[0m     \u001b[38;5;28;01mraise\u001b[39;00m converted \u001b[38;5;28;01mfrom\u001b[39;00m \u001b[38;5;28;01mNone\u001b[39;00m\n\u001b[1;32m    186\u001b[0m \u001b[38;5;28;01melse\u001b[39;00m:\n\u001b[1;32m    187\u001b[0m     \u001b[38;5;28;01mraise\u001b[39;00m\n",
      "\u001b[0;31mAnalysisException\u001b[0m: [SCHEMA_NOT_FOUND] The schema `efremenkov_database` cannot be found. Verify the spelling and correctness of the schema and catalog.\nIf you did not qualify the name with a catalog, verify the current_schema() output, or qualify the name with the correct catalog.\nTo tolerate the error on drop use DROP SCHEMA IF EXISTS."
     ]
    }
   ],
   "source": [
    "spark.catalog.setCurrentDatabase(database_name)"
   ]
  },
  {
   "cell_type": "markdown",
   "metadata": {},
   "source": [
    "Прочитаем таблицу с **предобработанным датасетом** и загрузим её в `Spark Dataframe`."
   ]
  },
  {
   "cell_type": "code",
   "execution_count": 10,
   "metadata": {},
   "outputs": [],
   "source": [
    "df = spark.table(\"sobd_lab1_processed_table\")"
   ]
  },
  {
   "cell_type": "markdown",
   "metadata": {},
   "source": [
    "Выведем прочитанную таблицу на экран."
   ]
  },
  {
   "cell_type": "code",
   "execution_count": 11,
   "metadata": {},
   "outputs": [
    {
     "name": "stderr",
     "output_type": "stream",
     "text": [
      "                                                                                \r"
     ]
    },
    {
     "name": "stdout",
     "output_type": "stream",
     "text": [
      "+--------------------+--------------------+-------------------------+-------------+---------------+--------------------+----------------------+------------------+----------------------+-------------------+\n",
      "|             LMK_KEY|             ADDRESS|CURRENT_ENERGY_EFFICIENCY|PROPERTY_TYPE|INSPECTION_DATE|HEATING_COST_CURRENT|HOT_WATER_COST_CURRENT|  TOTAL_FLOOR_AREA|NUMBER_HABITABLE_ROOMS|NUMBER_HEATED_ROOMS|\n",
      "+--------------------+--------------------+-------------------------+-------------+---------------+--------------------+----------------------+------------------+----------------------+-------------------+\n",
      "|0003352408dad177e...|21 HERIOT GRANGE,...|                       53|         Flat|     2021-08-03|               119.0|                 583.0|              36.0|                   2.0|                2.0|\n",
      "|15149389392220170...| 9, Sea View Terrace|                       66|        House|     2017-01-26|               666.0|                 107.0|              88.0|                   5.0|                5.0|\n",
      "|14518657291020160...|    54, Chatham Road|                       61|        House|     2016-06-09|              1018.0|                 137.0|             110.0|                   6.0|                6.0|\n",
      "|14206524924201002...|     10, Kendal Road|                       62|        House|     2010-02-09|               590.0|                  89.0| 68.18000030517578|                   4.0|                4.0|\n",
      "|97883539621201905...| 19, Wainwright Walk|                       65|        House|     2019-05-17|              1051.0|                  97.0|             144.0|                   6.0|                6.0|\n",
      "|13754325898420151...|   13, Wasdale Close|                       64|     Bungalow|     2015-10-15|               589.0|                 103.0|              58.0|                   3.0|                3.0|\n",
      "|55704353445201010...|  12, Challoner Road|                       53|        House|     2010-10-25|               638.0|                 209.0| 77.80000305175781|                   3.0|                3.0|\n",
      "|16366972240202003...|     2, Baden Street|                       58|        House|     2020-03-16|               784.0|                  89.0|              74.0|                   4.0|                4.0|\n",
      "|12070003405201911...|34, Annandale Cre...|                       74|         Flat|     2019-11-19|               310.0|                  78.0|              49.0|                   2.0|                2.0|\n",
      "|52898260990201008...| 25, Grainger Street|                       78|         Flat|     2010-08-18|               293.0|                  75.0|50.709999084472656|                   3.0|                3.0|\n",
      "|12127749397420141...|    21, Joicey Court|                       79|        House|     2014-10-02|               436.0|                 108.0|             108.0|                   4.0|                4.0|\n",
      "|07c4c7365951025bb...|   20 OAKLAND AVENUE|                       58|        House|     2021-07-26|              1220.0|                 100.0|             138.0|                   6.0|                6.0|\n",
      "|13417126881320190...|    116, Milton Road|                       56|        House|     2019-08-16|              1296.0|                 105.0|             127.0|                   5.0|                4.0|\n",
      "|2cc79a42d6472023b...|   8, Mariners Point|                       71|         Flat|     2021-09-17|               573.0|                 254.0|              90.0|                   3.0|                3.0|\n",
      "|2cc2459f5ed92b287...|  37 TENNYSON AVENUE|                       59|        House|     2021-07-22|               813.0|                  77.0|              80.0|                   4.0|                4.0|\n",
      "|35782989913201911...|59, Brecongill Close|                       69|        House|     2019-11-05|               409.0|                  87.0|              55.0|                   4.0|                4.0|\n",
      "|15741276468320180...|    4, Powell Street|                       59|        House|     2018-06-13|               666.0|                  75.0|              59.0|                   4.0|                4.0|\n",
      "|20088113060200812...| 11, Hereford Street|                       49|        House|     2008-12-05|               633.0|                  85.0| 65.27999877929688|                   3.0|                3.0|\n",
      "|21834110471201104...|117, Throston Gra...|                       41|        House|     2011-04-12|              1182.0|                 149.0|              91.5|                   5.0|                5.0|\n",
      "|23547154143201409...|   21, Wasdale Close|                       67|        House|     2014-09-18|               546.0|                 135.0|              71.0|                   5.0|                5.0|\n",
      "+--------------------+--------------------+-------------------------+-------------+---------------+--------------------+----------------------+------------------+----------------------+-------------------+\n",
      "only showing top 20 rows\n",
      "\n"
     ]
    }
   ],
   "source": [
    "df.show()"
   ]
  },
  {
   "cell_type": "markdown",
   "metadata": {},
   "source": [
    "Вспомним описание столбцов и параметры датасета, проанализированные в первой лабораторной работе.\n",
    "\n",
    "| Название столбца          | Расшифровка |  Тип признака и его характеристики\n",
    "| ------------------------- | ------------- | ------------------ |\n",
    "| LMK_KEY                   | Первичный ключ |  |\n",
    "| ADDRESS                   | Адрес  |  |\n",
    "| CURRENT_ENERGY_EFFICIENCY | Эффективность энергии | Количественный |\n",
    "| PROPERTY_TYPE             | Тип квартиры | Категориальный |\n",
    "| INSPECTION_DATE           | Дата инспекции |  |\n",
    "| HEATING_COST_CURRENT      | Затраты на обогрев | количественный |\n",
    "| HOT_WATER_COST_CURRENT    | Затраты на горячую воду | количественный |\n",
    "| TOTAL_FLOOR_AREA          | Площадь | Количественный |\n",
    "| NUMBER_HABITABLE_ROOMS    | Количество обитаемых комнат | Количественный |\n",
    "| NUMBER_HEATED_ROOMS       | Количество комнат с подогревом | Количественный |"
   ]
  },
  {
   "cell_type": "markdown",
   "metadata": {},
   "source": [
    "Вспомним схему данных."
   ]
  },
  {
   "cell_type": "code",
   "execution_count": 12,
   "metadata": {},
   "outputs": [
    {
     "name": "stdout",
     "output_type": "stream",
     "text": [
      "root\n",
      " |-- LMK_KEY: string (nullable = true)\n",
      " |-- ADDRESS: string (nullable = true)\n",
      " |-- CURRENT_ENERGY_EFFICIENCY: integer (nullable = true)\n",
      " |-- PROPERTY_TYPE: string (nullable = true)\n",
      " |-- INSPECTION_DATE: date (nullable = true)\n",
      " |-- HEATING_COST_CURRENT: float (nullable = true)\n",
      " |-- HOT_WATER_COST_CURRENT: float (nullable = true)\n",
      " |-- TOTAL_FLOOR_AREA: double (nullable = true)\n",
      " |-- NUMBER_HABITABLE_ROOMS: float (nullable = true)\n",
      " |-- NUMBER_HEATED_ROOMS: float (nullable = true)\n",
      "\n"
     ]
    }
   ],
   "source": [
    "df.printSchema()"
   ]
  },
  {
   "cell_type": "markdown",
   "metadata": {},
   "source": [
    "Вычислим количество строк в датафрейме."
   ]
  },
  {
   "cell_type": "code",
   "execution_count": 13,
   "metadata": {},
   "outputs": [
    {
     "name": "stderr",
     "output_type": "stream",
     "text": [
      "                                                                                \r"
     ]
    },
    {
     "data": {
      "text/plain": [
       "2996861"
      ]
     },
     "execution_count": 13,
     "metadata": {},
     "output_type": "execute_result"
    }
   ],
   "source": [
    "df.count()"
   ]
  },
  {
   "cell_type": "markdown",
   "metadata": {},
   "source": [
    "#### Постановка задачи линейной регрессии\n",
    "\n",
    "Для датасета, заданного представленными колонками, требуется построить модель линейной регрессии для оценки **Площадь квартиры** по всем колличественным и категориальным признакам. \n",
    "\n",
    "Для оценки качества обучения следует использовать метрики $RMSE$ и $R^2$."
   ]
  },
  {
   "cell_type": "markdown",
   "metadata": {},
   "source": [
    "#### Подготовка и кодирование признаков\n",
    "\n",
    "Для корректной работы трансформеров преобразуем столбцы `HEATING_COST_CURRENT`, `HOT_WATER_COST_CURRENT`, `NUMBER_HABITABLE_ROOMS`, `NUMBER_HEATED_ROOMS` к типу `DoubleType`."
   ]
  },
  {
   "cell_type": "code",
   "execution_count": 15,
   "metadata": {},
   "outputs": [],
   "source": [
    "df = df.withColumn(\"HEATING_COST_CURRENT\", col(\"HEATING_COST_CURRENT\").cast(DoubleType()))\n",
    "df = df.withColumn(\"HOT_WATER_COST_CURRENT\", col(\"HOT_WATER_COST_CURRENT\").cast(DoubleType()))\n",
    "df = df.withColumn(\"NUMBER_HABITABLE_ROOMS\", col(\"NUMBER_HABITABLE_ROOMS\").cast(DoubleType()))\n",
    "df = df.withColumn(\"NUMBER_HEATED_ROOMS\", col(\"NUMBER_HEATED_ROOMS\").cast(DoubleType()))"
   ]
  },
  {
   "cell_type": "markdown",
   "metadata": {},
   "source": [
    "Отделим от датасета некоторую часть объёмом примерно 1000 строк, и сохраним её на диске как локальный `csv`-файл. Он понадобится в следующей лабораторной работе."
   ]
  },
  {
   "cell_type": "code",
   "execution_count": 1,
   "metadata": {},
   "outputs": [
    {
     "ename": "NameError",
     "evalue": "name 'DataFrame' is not defined",
     "output_type": "error",
     "traceback": [
      "\u001b[0;31m---------------------------------------------------------------------------\u001b[0m",
      "\u001b[0;31mNameError\u001b[0m                                 Traceback (most recent call last)",
      "Cell \u001b[0;32mIn[1], line 1\u001b[0m\n\u001b[0;32m----> 1\u001b[0m \u001b[38;5;28;01mdef\u001b[39;00m \u001b[38;5;21msave_sample_to_csv\u001b[39m(data: \u001b[43mDataFrame\u001b[49m, file_path: \u001b[38;5;28mstr\u001b[39m, \n\u001b[1;32m      2\u001b[0m                        sample_size: \u001b[38;5;28mint\u001b[39m \u001b[38;5;241m=\u001b[39m \u001b[38;5;241m1000\u001b[39m) \u001b[38;5;241m-\u001b[39m\u001b[38;5;241m>\u001b[39m DataFrame:\n\u001b[1;32m      3\u001b[0m \u001b[38;5;250m    \u001b[39m\u001b[38;5;124;03m\"\"\"\u001b[39;00m\n\u001b[1;32m      4\u001b[0m \u001b[38;5;124;03m    Сохраняет первые `sample_size` строк из DataFrame в CSV-файл \u001b[39;00m\n\u001b[1;32m      5\u001b[0m \u001b[38;5;124;03m    на драйвере и возвращает DataFrame с оставшимися данными.\u001b[39;00m\n\u001b[0;32m   (...)\u001b[0m\n\u001b[1;32m     15\u001b[0m \u001b[38;5;124;03m        DataFrame: DataFrame с оставшимися данными.\u001b[39;00m\n\u001b[1;32m     16\u001b[0m \u001b[38;5;124;03m    \"\"\"\u001b[39;00m\n\u001b[1;32m     17\u001b[0m     \u001b[38;5;66;03m# Определяем пропорции для разделения\u001b[39;00m\n",
      "\u001b[0;31mNameError\u001b[0m: name 'DataFrame' is not defined"
     ]
    }
   ],
   "source": [
    "def save_sample_to_csv(data: DataFrame, file_path: str, \n",
    "                       sample_size: int = 1000) -> DataFrame:\n",
    "    \"\"\"\n",
    "    Сохраняет первые `sample_size` строк из DataFrame в CSV-файл \n",
    "    на драйвере и возвращает DataFrame с оставшимися данными.\n",
    "\n",
    "    Args:\n",
    "        data (DataFrame): DataFrame, из которого нужно извлечь\n",
    "            строки.\n",
    "        file_path (str): Путь для сохранения CSV-файла.\n",
    "        sample_size (int): Количество строк для сохранения\n",
    "            (по умолчанию 1000).\n",
    "\n",
    "    Returns:\n",
    "        DataFrame: DataFrame с оставшимися данными.\n",
    "    \"\"\"\n",
    "    # Определяем пропорции для разделения\n",
    "    sample_fraction = sample_size / data.count()\n",
    "    remaining_fraction = 1 - sample_fraction\n",
    "\n",
    "    # Разделяем DataFrame на два непересекающихся набора данных\n",
    "    sample_data, remaining_data = data.randomSplit(\n",
    "        [sample_fraction, remaining_fraction]\n",
    "    )\n",
    "\n",
    "    # Сохраняем извлеченные строки в CSV-файл на драйвере\n",
    "    try:\n",
    "        with open(file_path, mode=\"w\", newline=\"\") as file:\n",
    "            writer = csv.writer(file)\n",
    "\n",
    "            # Записываем заголовок\n",
    "            writer.writerow(data.columns)\n",
    "\n",
    "            # Записываем строки\n",
    "            for row in sample_data.take(sample_size):\n",
    "                writer.writerow(row)\n",
    "        print(f\"Файл \\\"{file_path}\\\" с данными успешно создан.\")\n",
    "\n",
    "    except Exception as e:\n",
    "        print(f\"Ошибка при записи файла: {e}\")\n",
    "\n",
    "    return remaining_data"
   ]
  },
  {
   "cell_type": "markdown",
   "metadata": {},
   "source": [
    "Определяем путь для сохранения `csv`-файла."
   ]
  },
  {
   "cell_type": "code",
   "execution_count": 19,
   "metadata": {},
   "outputs": [
    {
     "name": "stderr",
     "output_type": "stream",
     "text": [
      "                                                                                \r"
     ]
    },
    {
     "name": "stdout",
     "output_type": "stream",
     "text": [
      "Файл \"/home/user6/Efremenkov_directory/dataset/data/epc_cut_reg.csv\" с данными успешно создан.\n"
     ]
    }
   ],
   "source": [
    "path = \"/home/user6/Efremenkov_directory/dataset/data/epc_cut_reg.csv\"\n",
    "\n",
    "df = save_sample_to_csv(data=df, file_path=path, sample_size=1000)"
   ]
  },
  {
   "cell_type": "markdown",
   "metadata": {},
   "source": [
    "Оцениваем, сколько строк в датасете осталось."
   ]
  },
  {
   "cell_type": "code",
   "execution_count": 20,
   "metadata": {},
   "outputs": [
    {
     "name": "stderr",
     "output_type": "stream",
     "text": [
      "                                                                                \r"
     ]
    },
    {
     "data": {
      "text/plain": [
       "2995894"
      ]
     },
     "execution_count": 20,
     "metadata": {},
     "output_type": "execute_result"
    }
   ],
   "source": [
    "df.count()"
   ]
  },
  {
   "cell_type": "markdown",
   "metadata": {},
   "source": [
    "Разделим датасет на обучающую и тестовую выборки."
   ]
  },
  {
   "cell_type": "code",
   "execution_count": 21,
   "metadata": {},
   "outputs": [],
   "source": [
    "train_df, test_df = df.randomSplit([0.8, 0.2])"
   ]
  },
  {
   "cell_type": "code",
   "execution_count": 22,
   "metadata": {},
   "outputs": [
    {
     "name": "stderr",
     "output_type": "stream",
     "text": [
      "                                                                                \r"
     ]
    },
    {
     "name": "stdout",
     "output_type": "stream",
     "text": [
      "Train dataset size: 2396814\n"
     ]
    },
    {
     "name": "stderr",
     "output_type": "stream",
     "text": [
      "[Stage 25:=====================>                                    (3 + 5) / 8]\r"
     ]
    },
    {
     "name": "stdout",
     "output_type": "stream",
     "text": [
      "Test  dataset size: 599080\n"
     ]
    },
    {
     "name": "stderr",
     "output_type": "stream",
     "text": [
      "                                                                                \r"
     ]
    }
   ],
   "source": [
    "print(f\"Train dataset size: {train_df.count()}\")\n",
    "print(f\"Test  dataset size: {test_df.count()}\")"
   ]
  },
  {
   "cell_type": "markdown",
   "metadata": {},
   "source": [
    "Понятно, что **ключ и адрес** квартиры не оказывает влияния на тип недвижимости. Использовать его в модели нет смысла.\n",
    "\n",
    "Остальные признаки сгруппируем по их типу:\n",
    "\n",
    "* **Категориальные** признаки не содержат большого количества категорий, закодируем их `one-hot`-кодировкой.\n",
    "* **Бинарные** признаки представлены значениями `true` / `false`, которые могут быть интерпретированы как единица и нуль. Поэтому, в кодировании не нуждаются.\n",
    "* **Количественные** признаки нужно нормализовать / стандартизировать, перед тем, как передавать их в модель."
   ]
  },
  {
   "cell_type": "code",
   "execution_count": 37,
   "metadata": {},
   "outputs": [],
   "source": [
    "categorical_features = [ \"PROPERTY_TYPE\" ]\n",
    "numeric_features = [\n",
    "    \"CURRENT_ENERGY_EFFICIENCY\", \"HEATING_COST_CURRENT\", \"HOT_WATER_COST_CURRENT\", \"NUMBER_HABITABLE_ROOMS\", \"NUMBER_HEATED_ROOMS\"\n",
    "]\n",
    "#numeric_features = [\"daysonmarket\", \"horsepower\", \"maximum_seating\", \"age\"]\n",
    "#binarizable_feature = \"CURRENT_ENERGY_EFFICIENCY\""
   ]
  },
  {
   "cell_type": "markdown",
   "metadata": {},
   "source": [
    "Создадим конвейер обработки данных, включающий модель линейной регрессии."
   ]
  },
  {
   "cell_type": "code",
   "execution_count": 38,
   "metadata": {},
   "outputs": [],
   "source": [
    "def create_pipeline(categorical_features: list[str], \n",
    "                    numeric_features: list[str], \n",
    "                    #binary_features: list[str], binarized_col: str, \n",
    "                    #threshold: float, \n",
    "                    label_col: str, max_iter: int) -> Pipeline:\n",
    "    \n",
    "    # Формируем названия колонок для преобразованных признаков\n",
    "    indexed_categorical_features = [f\"{feature}_index\" for feature in categorical_features]\n",
    "    onehot_categorical_features = [f\"{feature}_ohe\" for feature in categorical_features]\n",
    "    \n",
    "    # Выполняем преобразования данных\n",
    "    string_indexer = StringIndexer(inputCols=categorical_features,\n",
    "                                   outputCols=indexed_categorical_features,\n",
    "                                   handleInvalid=\"keep\")\n",
    "    onehot_encoder = OneHotEncoder(inputCols=indexed_categorical_features,\n",
    "                                   outputCols=onehot_categorical_features,\n",
    "                                   dropLast=True,\n",
    "                                   handleInvalid=\"keep\")\n",
    "    vector_num_assembler = VectorAssembler(inputCols=numeric_features,\n",
    "                                           outputCol=\"numeric_vector\")\n",
    "    numeric_scaler = MinMaxScaler(inputCol=\"numeric_vector\",\n",
    "                                   outputCol=\"numeric_vector_scaled\")\n",
    "    #binarizer = Binarizer(inputCol=binarized_col,\n",
    "    #                      outputCol=\"mileage_binary\",\n",
    "    #                      threshold=threshold)\n",
    "    vector_all_assembler = VectorAssembler(\n",
    "        inputCols=(onehot_categorical_features + #binary_features +\n",
    "                   [\"numeric_vector_scaled\"]),\n",
    "        outputCol=\"features\"\n",
    "    )\n",
    "\n",
    "    # Создаем модель линейной регрессии\n",
    "    linear_regression = LinearRegression(featuresCol=\"features\",\n",
    "                                         labelCol=label_col,\n",
    "                                         predictionCol=\"prediction\",\n",
    "                                         standardization=False,\n",
    "                                         maxIter=max_iter)\n",
    "\n",
    "    # Создаем конвейер\n",
    "    pipeline = Pipeline(stages=[\n",
    "        string_indexer, \n",
    "        onehot_encoder, \n",
    "        vector_num_assembler,\n",
    "        numeric_scaler, \n",
    "        #binarizer, \n",
    "        vector_all_assembler,\n",
    "        linear_regression\n",
    "    ])\n",
    "\n",
    "    return pipeline"
   ]
  },
  {
   "cell_type": "code",
   "execution_count": 46,
   "metadata": {},
   "outputs": [
    {
     "name": "stderr",
     "output_type": "stream",
     "text": [
      "                                                                                \r"
     ]
    }
   ],
   "source": [
    "pipeline = create_pipeline(categorical_features=categorical_features,\n",
    "                           numeric_features=numeric_features,\n",
    "                           #binary_features=binary_features,\n",
    "                           label_col=\"TOTAL_FLOOR_AREA\",\n",
    "                           max_iter=15)"
   ]
  },
  {
   "cell_type": "markdown",
   "metadata": {},
   "source": [
    "#### Обучение модели\n",
    "\n",
    "Выполним **подбор гиперпараметров** модели линейной регрессии с помощью кросс-валидации на сетке.\n",
    "\n",
    "Создаем сетку параметров для кросс-валидации, получив объект `LinearRegression` из конвейера."
   ]
  },
  {
   "cell_type": "code",
   "execution_count": 47,
   "metadata": {},
   "outputs": [
    {
     "name": "stderr",
     "output_type": "stream",
     "text": [
      "                                                                                \r"
     ]
    }
   ],
   "source": [
    "param_grid = ParamGridBuilder() \\\n",
    "    .addGrid(pipeline.getStages()[-1].regParam, [0.01, 0.1, 1.0]) \\\n",
    "    .addGrid(pipeline.getStages()[-1].elasticNetParam, [0.0, 0.5, 1.0]) \\\n",
    "    .build()"
   ]
  },
  {
   "cell_type": "markdown",
   "metadata": {},
   "source": [
    "Создаем экземпляр `RegressionEvaluator` для оценки модели."
   ]
  },
  {
   "cell_type": "code",
   "execution_count": 48,
   "metadata": {},
   "outputs": [],
   "source": [
    "cv_evaluator = RegressionEvaluator(labelCol=\"TOTAL_FLOOR_AREA\",\n",
    "                                   predictionCol=\"prediction\",\n",
    "                                   metricName=\"rmse\")"
   ]
  },
  {
   "cell_type": "markdown",
   "metadata": {},
   "source": [
    "Создаем объект `CrossValidator`."
   ]
  },
  {
   "cell_type": "code",
   "execution_count": 49,
   "metadata": {},
   "outputs": [
    {
     "name": "stderr",
     "output_type": "stream",
     "text": [
      "                                                                                \r"
     ]
    }
   ],
   "source": [
    "cross_validator = CrossValidator(estimator=pipeline,\n",
    "                                 estimatorParamMaps=param_grid,\n",
    "                                 evaluator=cv_evaluator,\n",
    "                                 numFolds=5)"
   ]
  },
  {
   "cell_type": "markdown",
   "metadata": {},
   "source": [
    "Обучаем модель конвейера с использованием кросс-валидации."
   ]
  },
  {
   "cell_type": "code",
   "execution_count": 50,
   "metadata": {},
   "outputs": [
    {
     "name": "stderr",
     "output_type": "stream",
     "text": [
      "25/02/25 21:30:08 WARN CacheManager: Asked to cache already cached data.\n",
      "25/02/25 21:30:08 WARN CacheManager: Asked to cache already cached data.\n",
      "25/02/25 21:30:28 WARN InstanceBuilder: Failed to load implementation from:dev.ludovic.netlib.blas.JNIBLAS\n",
      "25/02/25 21:30:29 WARN InstanceBuilder: Failed to load implementation from:dev.ludovic.netlib.lapack.JNILAPACK\n",
      "25/02/25 21:30:29 WARN Instrumentation: [72351fbd] Cholesky solver failed due to singular covariance matrix. Retrying with Quasi-Newton solver.\n",
      "25/02/25 21:32:14 WARN Instrumentation: [38762538] Cholesky solver failed due to singular covariance matrix. Retrying with Quasi-Newton solver.\n",
      "25/02/25 21:33:39 WARN Instrumentation: [ba364fa9] Cholesky solver failed due to singular covariance matrix. Retrying with Quasi-Newton solver.\n",
      "25/02/25 21:35:13 WARN Instrumentation: [4b4ab974] Cholesky solver failed due to singular covariance matrix. Retrying with Quasi-Newton solver.\n",
      "25/02/25 21:36:45 WARN Instrumentation: [61541003] Cholesky solver failed due to singular covariance matrix. Retrying with Quasi-Newton solver.\n",
      "25/02/25 21:38:10 WARN Instrumentation: [df954614] Cholesky solver failed due to singular covariance matrix. Retrying with Quasi-Newton solver.\n",
      "25/02/25 21:39:44 WARN Instrumentation: [29ad3c2a] Cholesky solver failed due to singular covariance matrix. Retrying with Quasi-Newton solver.\n",
      "25/02/25 21:41:14 WARN Instrumentation: [bb1fa4bd] Cholesky solver failed due to singular covariance matrix. Retrying with Quasi-Newton solver.\n",
      "25/02/25 21:42:38 WARN Instrumentation: [312bb14e] Cholesky solver failed due to singular covariance matrix. Retrying with Quasi-Newton solver.\n",
      "25/02/25 21:44:11 WARN Instrumentation: [22b80843] Cholesky solver failed due to singular covariance matrix. Retrying with Quasi-Newton solver.\n",
      "25/02/25 21:45:40 WARN Instrumentation: [120abd6d] Cholesky solver failed due to singular covariance matrix. Retrying with Quasi-Newton solver.\n",
      "25/02/25 21:47:03 WARN Instrumentation: [d53d119a] Cholesky solver failed due to singular covariance matrix. Retrying with Quasi-Newton solver.\n",
      "25/02/25 21:48:35 WARN Instrumentation: [acc7c066] Cholesky solver failed due to singular covariance matrix. Retrying with Quasi-Newton solver.\n",
      "25/02/25 21:50:04 WARN Instrumentation: [55c77b0f] Cholesky solver failed due to singular covariance matrix. Retrying with Quasi-Newton solver.\n",
      "25/02/25 21:51:28 WARN Instrumentation: [760da293] Cholesky solver failed due to singular covariance matrix. Retrying with Quasi-Newton solver.\n",
      "                                                                                \r"
     ]
    }
   ],
   "source": [
    "cv_model = cross_validator.fit(train_df)"
   ]
  },
  {
   "cell_type": "markdown",
   "metadata": {},
   "source": [
    "Выведем параметры **лучшей** модели, определенной в ходе кросс-валидации."
   ]
  },
  {
   "cell_type": "code",
   "execution_count": 51,
   "metadata": {},
   "outputs": [],
   "source": [
    "def get_best_model_params(cv_model: CrossValidatorModel) -> dict[str, float]:\n",
    "    \"\"\"\n",
    "    Получает параметры лучшей модели из объекта CrossValidatorModel.\n",
    "\n",
    "    Args:\n",
    "        cv_model (CrossValidatorModel): Объект CrossValidatorModel, \n",
    "            содержащий лучшую модель.\n",
    "\n",
    "    Returns:\n",
    "        Dict[str, float]: Параметры лучшей модели.\n",
    "    \"\"\"\n",
    "    best_model = cv_model.bestModel\n",
    "    best_params = {\n",
    "        \"regParam\": best_model.stages[-1].getRegParam(),\n",
    "        \"elasticNetParam\": best_model.stages[-1].getElasticNetParam(),\n",
    "        \"maxIter\": best_model.stages[-1].getMaxIter()\n",
    "    }\n",
    "    return best_params"
   ]
  },
  {
   "cell_type": "code",
   "execution_count": 52,
   "metadata": {},
   "outputs": [
    {
     "name": "stdout",
     "output_type": "stream",
     "text": [
      "regParam: 0.01\n",
      "elasticNetParam: 1.0\n",
      "maxIter: 15\n"
     ]
    }
   ],
   "source": [
    "for key, value in get_best_model_params(cv_model=cv_model).items():\n",
    "    print(f\"{key}: {value}\")"
   ]
  },
  {
   "cell_type": "markdown",
   "metadata": {},
   "source": [
    "#### Анализ процесса обучения\n",
    "\n",
    "Визуализируем изменение ошибки модели в ходе обучения и рассчитаем метрики на обучающем датасете."
   ]
  },
  {
   "cell_type": "code",
   "execution_count": 53,
   "metadata": {},
   "outputs": [],
   "source": [
    "def plot_training_summary(cv_model: DataFrame) -> None:\n",
    "    \"\"\"\n",
    "    Отображает графики зависимости значения ошибки от номера итерации на\n",
    "    обучающей выборке, а также значения метрик RMSE и R^2.\n",
    "\n",
    "    Args:\n",
    "        cv_model (DataFrame): Обученная модель с использованием кросс-валидации.\n",
    "    \"\"\"\n",
    "    # Получаем лучшую модель\n",
    "    best_model = cv_model.bestModel\n",
    "\n",
    "    # Получаем информацию о процессе обучения\n",
    "    training_summary = best_model.stages[-1].summary\n",
    "\n",
    "    # Получаем значения ошибки для каждой итерации\n",
    "    objective_history = training_summary.objectiveHistory\n",
    "\n",
    "    # Строим график зависимости значения ошибки от номера итерации\n",
    "    plt.figure(figsize=(10, 6))\n",
    "    sns.lineplot(x=range(len(objective_history)), \n",
    "                 y=objective_history, \n",
    "                 marker='o')\n",
    "    plt.xlabel('Итерация')\n",
    "    plt.ylabel('Ошибка')\n",
    "    plt.title(\"Зависимость значения функции ошибки от номера итерации\")\n",
    "\n",
    "    # Получаем значения метрик\n",
    "    rmse = training_summary.rootMeanSquaredError\n",
    "    r2 = training_summary.r2\n",
    "\n",
    "    # Добавляем значения метрик на график\n",
    "    plt.text(0.95, 0.95, f\"RMSE: {rmse:.2f}\\nR^2: {r2:.2f}\",\n",
    "             transform=plt.gca().transAxes, ha='right', va='top',\n",
    "             bbox=dict(facecolor='white', alpha=0.8), zorder=5)\n",
    "    plt.grid()\n",
    "\n",
    "    plt.show()"
   ]
  },
  {
   "cell_type": "code",
   "execution_count": 54,
   "metadata": {},
   "outputs": [
    {
     "data": {
      "image/png": "[encoded data removed]",
      "text/plain": [
       "<Figure size 1000x600 with 1 Axes>"
      ]
     },
     "metadata": {},
     "output_type": "display_data"
    }
   ],
   "source": [
    "plot_training_summary(cv_model)"
   ]
  },
  {
   "cell_type": "markdown",
   "metadata": {},
   "source": [
    "#### Проверка обобщающей способности модели\n",
    "\n",
    "Выполним предсказания на тестовой выборке. \n",
    "\n",
    "Перегруппируем колонки датафрейма, переставив столбец с площадью квартиры в конец, чтобы его значения было удобно сравнивать с предсказанными."
   ]
  },
  {
   "cell_type": "code",
   "execution_count": 55,
   "metadata": {},
   "outputs": [
    {
     "name": "stderr",
     "output_type": "stream",
     "text": [
      "[Stage 696:>                                                        (0 + 1) / 1]\r"
     ]
    },
    {
     "name": "stdout",
     "output_type": "stream",
     "text": [
      "+--------------------+--------------------+-------------------------+-------------+---------------+--------------------+----------------------+----------------------+-------------------+-------------------+-----------------+--------------------+---------------------+--------------------+------------------+----------------+\n",
      "|             LMK_KEY|             ADDRESS|CURRENT_ENERGY_EFFICIENCY|PROPERTY_TYPE|INSPECTION_DATE|HEATING_COST_CURRENT|HOT_WATER_COST_CURRENT|NUMBER_HABITABLE_ROOMS|NUMBER_HEATED_ROOMS|PROPERTY_TYPE_index|PROPERTY_TYPE_ohe|      numeric_vector|numeric_vector_scaled|            features|        prediction|TOTAL_FLOOR_AREA|\n",
      "+--------------------+--------------------+-------------------------+-------------+---------------+--------------------+----------------------+----------------------+-------------------+-------------------+-----------------+--------------------+---------------------+--------------------+------------------+----------------+\n",
      "|000331f9ef40fda2f...|   290 Stockton Road|                       72|        House|     2023-03-21|              1273.0|                 237.0|                   5.0|                5.0|                0.0|    (6,[0],[1.0])|[72.0,1273.0,237....| [0.04166666666666...|(11,[0,6,7,8,9,10...|144.21351570150455|            96.0|\n",
      "|0003352408dad177e...|21 HERIOT GRANGE,...|                       53|         Flat|     2021-08-03|               119.0|                 583.0|                   2.0|                2.0|                1.0|    (6,[1],[1.0])|[53.0,119.0,583.0...| [0.03051643192488...|(11,[1,6,7,8,9,10...|24.673379575731225|            36.0|\n",
      "|0003edc460e08d2bd...|      6, Conrad Walk|                       65|     Bungalow|     2020-08-10|               436.0|                  76.0|                   2.0|                2.0|                2.0|    (6,[2],[1.0])|[65.0,436.0,76.0,...| [0.03755868544600...|(11,[2,6,7,8,9,10...| 57.82604535229218|            39.0|\n",
      "|000935b856683580e...|12 Hartfields Man...|                       82|         Flat|     2022-05-30|               179.0|                  88.0|                   3.0|                3.0|                1.0|    (6,[1],[1.0])|[82.0,179.0,88.0,...| [0.04753521126760...|(11,[1,6,7,8,9,10...| 61.66642010749111|            59.0|\n",
      "|000b56f3f33ef5e6d...|  20 Columbia Street|                       61|        House|     2022-01-24|               640.0|                  94.0|                   4.0|                4.0|                0.0|    (6,[0],[1.0])|[61.0,640.0,94.0,...| [0.03521126760563...|(11,[0,6,7,8,9,10...| 84.55566667950117|            66.0|\n",
      "|000d59c89eb5feca6...|2 Silverbirch Clo...|                       86|        House|     2022-03-03|               336.0|                  73.0|                   0.0|                0.0|                0.0|    (6,[0],[1.0])|[86.0,336.0,73.0,...| [0.04988262910798...|(11,[0,6,7,8],[1....| 80.84513382242147|           166.0|\n",
      "|000ec692411f62ec4...|9 BALCARY COURT R...|                       79|         Flat|     2021-03-30|               269.0|                 100.0|                   4.0|                4.0|                1.0|    (6,[1],[1.0])|[79.0,269.0,100.0...| [0.04577464788732...|(11,[1,6,7,8,9,10...|  67.8029482486065|            62.0|\n",
      "|001fa889c7d4529b2...|   20, Repton Avenue|                       48|     Bungalow|     2020-08-11|               772.0|                  76.0|                   2.0|                2.0|                2.0|    (6,[2],[1.0])|[48.0,772.0,76.0,...| [0.02758215962441...|(11,[2,6,7,8,9,10...| 56.01796271011698|            41.0|\n",
      "|0024f922bb325f131...|6 SOUTHLANDS DRIV...|                       30|     Bungalow|     2021-02-25|              1395.0|                 233.0|                   4.0|                4.0|                2.0|    (6,[2],[1.0])|[30.0,1395.0,233....| [0.01701877934272...|(11,[2,6,7,8,9,10...| 81.87017479703775|            82.0|\n",
      "|002b97e6045254768...|31 Great West Gar...|                       85|        House|     2021-07-08|               266.0|                  95.0|                   0.0|                0.0|                0.0|    (6,[0],[1.0])|[85.0,266.0,95.0,...| [0.04929577464788...|(11,[0,6,7,8],[1....| 75.69084823771891|           117.0|\n",
      "|00305dfa1cd2203ee...|10 Rainham Close,...|                       69|        House|     2022-06-21|               672.0|                  93.0|                   7.0|                7.0|                0.0|    (6,[0],[1.0])|[69.0,672.0,93.0,...| [0.03990610328638...|(11,[0,6,7,8,9,10...|110.05219449641646|           118.0|\n",
      "|00343519d5ff84eb9...|17 GREENWELL STRE...|                       64|        House|     2020-12-30|               733.0|                 114.0|                   5.0|                5.0|                0.0|    (6,[0],[1.0])|[64.0,733.0,114.0...| [0.03697183098591...|(11,[0,6,7,8,9,10...| 98.84392086195712|            87.0|\n",
      "|0042a99d51820fa31...|69 THRUSHWOOD CRE...|                       74|        House|     2021-02-17|               292.0|                  88.0|                   2.0|                2.0|                0.0|    (6,[0],[1.0])|[74.0,292.0,88.0,...| [0.04284037558685...|(11,[0,6,7,8,9,10...| 71.55188845949084|            46.0|\n",
      "|0044313d33f21d86b...|     29 Lucerne Road|                       70|        House|     2022-05-11|               477.0|                  80.0|                   5.0|                5.0|                0.0|    (6,[0],[1.0])|[70.0,477.0,80.0,...| [0.04049295774647...|(11,[0,6,7,8,9,10...| 90.54427401666135|            83.0|\n",
      "|0047254b037d1fcea...| 159 Southfield Road|                       69|        House|     2022-04-01|              1610.0|                 100.0|                  12.0|               12.0|                0.0|    (6,[0],[1.0])|[69.0,1610.0,100....| [0.03990610328638...|(11,[0,6,7,8,9,10...| 188.9357227036623|           293.0|\n",
      "|004bd2952e72bc8ef...|23 Stone Road, Eston|                       83|        House|     2023-04-03|               428.0|                 173.0|                   0.0|                0.0|                0.0|    (6,[0],[1.0])|[83.0,428.0,173.0...| [0.04812206572769...|(11,[0,6,7,8],[1....|  84.2971640737486|            76.0|\n",
      "|004d631a57fddb1bf...|17 SALISBURY TERR...|                       72|     Bungalow|     2021-01-29|               410.0|                  89.0|                   4.0|                4.0|                2.0|    (6,[2],[1.0])|[72.0,410.0,89.0,...| [0.04166666666666...|(11,[2,6,7,8,9,10...| 74.37299380368995|            63.0|\n",
      "|0054009324c23dd5e...|55 Arndale, Beech...|                       71|        House|     2022-07-15|               437.0|                  76.0|                   4.0|                4.0|                0.0|    (6,[0],[1.0])|[71.0,437.0,76.0,...| [0.04107981220657...|(11,[0,6,7,8,9,10...| 84.97282346087627|            73.0|\n",
      "|0056ee914adf099f1...|     155 Halton Road|                       63|        House|     2022-08-01|               656.0|                 103.0|                   4.0|                4.0|                0.0|    (6,[0],[1.0])|[63.0,656.0,103.0...| [0.03638497652582...|(11,[0,6,7,8,9,10...| 88.29545937176619|            75.0|\n",
      "|0068af53435de4d93...|11 THE GLEBE, RUN...|                       71|        House|     2020-10-12|               469.0|                  82.0|                   5.0|                5.0|                0.0|    (6,[0],[1.0])|[71.0,469.0,82.0,...| [0.04107981220657...|(11,[0,6,7,8,9,10...| 91.39956118004156|            77.0|\n",
      "+--------------------+--------------------+-------------------------+-------------+---------------+--------------------+----------------------+----------------------+-------------------+-------------------+-----------------+--------------------+---------------------+--------------------+------------------+----------------+\n",
      "only showing top 20 rows\n",
      "\n"
     ]
    },
    {
     "name": "stderr",
     "output_type": "stream",
     "text": [
      "                                                                                \r"
     ]
    }
   ],
   "source": [
    "# Получаем датасет предсказаний\n",
    "test_df_predictions = cv_model.transform(test_df)\n",
    "\n",
    "# Извлекаем список колонок, устанавливаем цену на последнее место\n",
    "right_columns_order = test_df_predictions.columns\n",
    "right_columns_order.remove(\"TOTAL_FLOOR_AREA\")\n",
    "right_columns_order.append(\"TOTAL_FLOOR_AREA\")\n",
    "\n",
    "# Изменяем последовательность колонок и выводим датафрейм\n",
    "test_df_predictions = test_df_predictions.select(*right_columns_order)\n",
    "test_df_predictions.show()"
   ]
  },
  {
   "cell_type": "markdown",
   "metadata": {},
   "source": [
    "Создадим функцию оценки модели: расчета метрик для некоторого датасета, как правило, тестового."
   ]
  },
  {
   "cell_type": "code",
   "execution_count": 56,
   "metadata": {},
   "outputs": [],
   "source": [
    "def evaluate_model(data: DataFrame, metric_name: str) -> float:\n",
    "    \"\"\"\n",
    "    Оценивает модель с использованием указанной метрики.\n",
    "\n",
    "    Args:\n",
    "        data (DataFrame): DataFrame, содержащий предсказания и фактические метки.\n",
    "        metric_name (str): Название метрики для оценки (например, \"rmse\", \"r2\").\n",
    "\n",
    "    Returns:\n",
    "        float: Значение указанной метрики.\n",
    "    \"\"\"\n",
    "    evaluator = RegressionEvaluator(labelCol=\"TOTAL_FLOOR_AREA\", \n",
    "                                    predictionCol=\"prediction\", \n",
    "                                    metricName=metric_name)\n",
    "    metric_value = evaluator.evaluate(data)\n",
    "    return metric_value"
   ]
  },
  {
   "cell_type": "markdown",
   "metadata": {},
   "source": [
    "Оценим модель на тестовой выборке."
   ]
  },
  {
   "cell_type": "code",
   "execution_count": 57,
   "metadata": {},
   "outputs": [
    {
     "name": "stderr",
     "output_type": "stream",
     "text": [
      "[Stage 699:=====================>                                   (3 + 5) / 8]\r"
     ]
    },
    {
     "name": "stdout",
     "output_type": "stream",
     "text": [
      "RMSE on test data: 22.95\n",
      "R^2 on test data: 0.65\n"
     ]
    },
    {
     "name": "stderr",
     "output_type": "stream",
     "text": [
      "                                                                                \r"
     ]
    }
   ],
   "source": [
    "test_rmse = evaluate_model(test_df_predictions, \"rmse\")\n",
    "test_r2 = evaluate_model(test_df_predictions, \"r2\")\n",
    "\n",
    "print(f\"RMSE on test data: {test_rmse:.2f}\")\n",
    "print(f\"R^2 on test data: {test_r2:.2f}\")"
   ]
  },
  {
   "cell_type": "markdown",
   "metadata": {},
   "source": [
    "Метрики весьма неплохие для линейной модели!"
   ]
  },
  {
   "cell_type": "markdown",
   "metadata": {},
   "source": [
    "#### Сохранение модели\n",
    "\n",
    "Зададим директорию студента в `HDFS`, в которой будет сохранена обученная модель."
   ]
  },
  {
   "cell_type": "code",
   "execution_count": 58,
   "metadata": {},
   "outputs": [],
   "source": [
    "student_hdfs_folder = \"Efremenkov_directory\""
   ]
  },
  {
   "cell_type": "code",
   "execution_count": 59,
   "metadata": {},
   "outputs": [
    {
     "name": "stderr",
     "output_type": "stream",
     "text": [
      "[Stage 719:>                                                        (0 + 1) / 1]\r"
     ]
    },
    {
     "name": "stdout",
     "output_type": "stream",
     "text": [
      "Модель успешно сохранена в \"hdfs:///user/user6/Efremenkov_directory/models/lr-model\"\n"
     ]
    },
    {
     "name": "stderr",
     "output_type": "stream",
     "text": [
      "                                                                                \r"
     ]
    }
   ],
   "source": [
    "# Получаем имя пользователя\n",
    "user_name = os.getenv(\"USER\")\n",
    "\n",
    "# Путь модели в HDFS\n",
    "model_hdfs_path = f\"hdfs:///user/{user_name}/{student_hdfs_folder}/models/lr-model\"\n",
    "\n",
    "# Сохраняем модель конвейера в HDFS\n",
    "try:\n",
    "    cv_model.bestModel.save(model_hdfs_path)\n",
    "    print(f\"Модель успешно сохранена в \\\"{model_hdfs_path}\\\"\")\n",
    "except Exception as e:\n",
    "    print(f\"Ошибка при сохранении модели: {e}\")"
   ]
  },
  {
   "cell_type": "markdown",
   "metadata": {},
   "source": [
    "Не забываем завершать `Spark`-сессию."
   ]
  },
  {
   "cell_type": "code",
   "execution_count": 60,
   "metadata": {},
   "outputs": [],
   "source": [
    "spark.stop()"
   ]
  }
 ],
 "metadata": {
  "kernelspec": {
   "display_name": "Python 3",
   "language": "python",
   "name": "python3"
  },
  "language_info": {
   "codemirror_mode": {
    "name": "ipython",
    "version": 3
   },
   "file_extension": ".py",
   "mimetype": "text/x-python",
   "name": "python",
   "nbconvert_exporter": "python",
   "pygments_lexer": "ipython3",
   "version": "3.11.9"
  }
 },
 "nbformat": 4,
 "nbformat_minor": 2
}
